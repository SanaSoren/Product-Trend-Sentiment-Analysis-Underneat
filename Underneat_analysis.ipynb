{
 "cells": [
  {
   "cell_type": "markdown",
   "id": "22e03311-5c08-4132-926e-eb7eb1f8172a",
   "metadata": {},
   "source": [
    "# Product Trend & Sentiment Analysis – Underneat.in\n",
    "\n",
    "-----\n",
    "This Demonstration shows how to:\n",
    "- Scrape product data from Underneat.in\n",
    "- Extract trends like \"New Arrivals\" and \"Best Sellers\"\n",
    "- Perform sentiment analysis on product titles\n",
    "- Analyze pricing, discounting, and product categories\n",
    "- Visualize insights using charts\n",
    "\n",
    "-----\n",
    "This serves as a prototype for scalable trend analysis across fashion websites and marketplaces."
   ]
  },
  {
   "cell_type": "code",
   "execution_count": 1,
   "id": "cf812de2-076a-4679-b2e0-8264759ba053",
   "metadata": {},
   "outputs": [],
   "source": [
    "# Module used\n",
    "import requests\n",
    "from bs4 import BeautifulSoup\n",
    "import pandas as pd\n",
    "from datetime import datetime\n",
    "import time\n",
    "from textblob import TextBlob\n",
    "import matplotlib.pyplot as plt\n",
    "import seaborn as sns"
   ]
  },
  {
   "cell_type": "code",
   "execution_count": 2,
   "id": "3163e957-c80f-474c-a9ad-cd9ba7e5d01b",
   "metadata": {},
   "outputs": [],
   "source": [
    "# Headers to avoid getting blocked\n",
    "headers = {\n",
    "    \"User-Agent\": \"Mozilla/5.0 (Windows NT 10.0; Win64; x64)\"\n",
    "}\n",
    "\n",
    "BASE_URL = \"https://underneat.in\"\n",
    "sections = {\n",
    "    \"All Products\": \"/collections/all-products\",\n",
    "    \"Best Sellers\": \"/collections/best-selling\",\n",
    "    \"New Arrivals\": \"/collections/new-arrivals\"\n",
    "}"
   ]
  },
  {
   "cell_type": "code",
   "execution_count": 3,
   "id": "8bb0744d-f0dc-48f4-8bfc-b3bcaf49ed7a",
   "metadata": {},
   "outputs": [],
   "source": [
    "# Getting sentiment polarity from product title\n",
    "def get_sentiment(text):\n",
    "    blob = TextBlob(text)\n",
    "    return round(blob.sentiment.polarity, 3)  # from -1 (negative) to +1 (positive)\n",
    "\n",
    "# Extracting product info from HTML block\n",
    "def extract_product_info(product, section_name):\n",
    "    try:\n",
    "        name = product.select_one(\".product-block__title\").get_text(strip=True)\n",
    "        price_tag = product.select_one(\".price__current\")\n",
    "        if not price_tag:\n",
    "            return None\n",
    "        price = price_tag.get_text(strip=True).replace(\"Rs.\", \"\").replace(\",\", \"\")\n",
    "        url_suffix = product.select_one(\"a.product-link\")[\"href\"]\n",
    "        full_url = BASE_URL + url_suffix\n",
    "\n",
    "        category = url_suffix.split(\"/\")[2] if len(url_suffix.split(\"/\")) > 2 else \"Unknown\"\n",
    "\n",
    "        original_price_tag = product.select_one(\".price__was\")\n",
    "        discount = None\n",
    "        if original_price_tag:\n",
    "            original_price = original_price_tag.get_text(strip=True).replace(\"Rs.\", \"\").replace(\",\", \"\")\n",
    "            discount = round((float(original_price) - float(price)) / float(original_price) * 100, 2)\n",
    "\n",
    "        # Tag trend type\n",
    "        if section_name == \"New Arrivals\":\n",
    "            trend_type = \"Current Trend\"\n",
    "        elif section_name == \"Best Sellers\":\n",
    "            trend_type = \"All-Time Popular\"\n",
    "        else:\n",
    "            trend_type = \"General\"\n",
    "\n",
    "        return {\n",
    "            \"Product Name\": name,\n",
    "            \"Price (INR)\": float(price),\n",
    "            \"Product URL\": full_url,\n",
    "            \"Category\": category,\n",
    "            \"Discount (%)\": discount,\n",
    "            \"Section\": section_name,\n",
    "            \"Trend Type\": trend_type,\n",
    "            \"Sentiment Score\": get_sentiment(name),\n",
    "            \"Time Captured\": datetime.now().strftime(\"%Y-%m-%d %H:%M:%S\")\n",
    "        }\n",
    "    except Exception as e:\n",
    "        print(f\"Error parsing product: {e}\")\n",
    "        return None"
   ]
  },
  {
   "cell_type": "code",
   "execution_count": 4,
   "id": "49b0cbe5-94f5-430b-a59b-caae6bf7701b",
   "metadata": {},
   "outputs": [],
   "source": [
    "def scrape_section(name, path):\n",
    "    page = 1\n",
    "    all_products = []\n",
    "    while True:\n",
    "        url = f\"{BASE_URL}{path}?page={page}\"\n",
    "        print(f\"Fetching: {url}\")\n",
    "        res = requests.get(url, headers=headers)\n",
    "        soup = BeautifulSoup(res.text, \"html.parser\")\n",
    "        products = soup.select(\".product-block\")\n",
    "        if not products:\n",
    "            break\n",
    "        for p in products:\n",
    "            info = extract_product_info(p, name)\n",
    "            if info:\n",
    "                all_products.append(info)\n",
    "        page += 1\n",
    "        time.sleep(1)  # Be polite\n",
    "    return pd.DataFrame(all_products)"
   ]
  },
  {
   "cell_type": "code",
   "execution_count": 5,
   "id": "854733ac-5168-4a08-b60a-da3a63280bd2",
   "metadata": {},
   "outputs": [
    {
     "name": "stdout",
     "output_type": "stream",
     "text": [
      "\n",
      "Scraping Section: All Products\n",
      "Fetching: https://underneat.in/collections/all-products?page=1\n",
      "Fetching: https://underneat.in/collections/all-products?page=2\n",
      "Fetching: https://underneat.in/collections/all-products?page=3\n",
      "\n",
      "Scraping Section: Best Sellers\n",
      "Fetching: https://underneat.in/collections/best-selling?page=1\n",
      "Fetching: https://underneat.in/collections/best-selling?page=2\n",
      "\n",
      "Scraping Section: New Arrivals\n",
      "Fetching: https://underneat.in/collections/new-arrivals?page=1\n",
      "Fetching: https://underneat.in/collections/new-arrivals?page=2\n",
      "\n",
      " Scraping Complete. Data saved to 'underneat_trending_products.csv'\n"
     ]
    },
    {
     "data": {
      "text/html": [
       "<div>\n",
       "<style scoped>\n",
       "    .dataframe tbody tr th:only-of-type {\n",
       "        vertical-align: middle;\n",
       "    }\n",
       "\n",
       "    .dataframe tbody tr th {\n",
       "        vertical-align: top;\n",
       "    }\n",
       "\n",
       "    .dataframe thead th {\n",
       "        text-align: right;\n",
       "    }\n",
       "</style>\n",
       "<table border=\"1\" class=\"dataframe\">\n",
       "  <thead>\n",
       "    <tr style=\"text-align: right;\">\n",
       "      <th></th>\n",
       "      <th>Product Name</th>\n",
       "      <th>Price (INR)</th>\n",
       "      <th>Product URL</th>\n",
       "      <th>Category</th>\n",
       "      <th>Discount (%)</th>\n",
       "      <th>Section</th>\n",
       "      <th>Trend Type</th>\n",
       "      <th>Sentiment Score</th>\n",
       "      <th>Time Captured</th>\n",
       "    </tr>\n",
       "  </thead>\n",
       "  <tbody>\n",
       "    <tr>\n",
       "      <th>0</th>\n",
       "      <td>Strapless Butt Lifting Bodysuit</td>\n",
       "      <td>2199.0</td>\n",
       "      <td>https://underneat.in/products/strapless-butt-l...</td>\n",
       "      <td>strapless-butt-lifting-bodysuit</td>\n",
       "      <td>None</td>\n",
       "      <td>All Products</td>\n",
       "      <td>General</td>\n",
       "      <td>0.00</td>\n",
       "      <td>2025-07-18 15:40:06</td>\n",
       "    </tr>\n",
       "    <tr>\n",
       "      <th>1</th>\n",
       "      <td>All Day Push Up Bra</td>\n",
       "      <td>1499.0</td>\n",
       "      <td>https://underneat.in/products/all-day-push-up-bra</td>\n",
       "      <td>all-day-push-up-bra</td>\n",
       "      <td>None</td>\n",
       "      <td>All Products</td>\n",
       "      <td>General</td>\n",
       "      <td>0.00</td>\n",
       "      <td>2025-07-18 15:40:06</td>\n",
       "    </tr>\n",
       "    <tr>\n",
       "      <th>2</th>\n",
       "      <td>High Waist Tummy Control Shorts</td>\n",
       "      <td>1999.0</td>\n",
       "      <td>https://underneat.in/products/high-waist-tummy...</td>\n",
       "      <td>high-waist-tummy-control-shorts</td>\n",
       "      <td>None</td>\n",
       "      <td>All Products</td>\n",
       "      <td>General</td>\n",
       "      <td>0.16</td>\n",
       "      <td>2025-07-18 15:40:06</td>\n",
       "    </tr>\n",
       "    <tr>\n",
       "      <th>3</th>\n",
       "      <td>Open Bust Butt Lifting Bodysuit</td>\n",
       "      <td>2699.0</td>\n",
       "      <td>https://underneat.in/products/open-butt-liftin...</td>\n",
       "      <td>open-butt-lifting-bodysuit</td>\n",
       "      <td>None</td>\n",
       "      <td>All Products</td>\n",
       "      <td>General</td>\n",
       "      <td>0.00</td>\n",
       "      <td>2025-07-18 15:40:06</td>\n",
       "    </tr>\n",
       "    <tr>\n",
       "      <th>4</th>\n",
       "      <td>High Waist Butt Lifting Shorts</td>\n",
       "      <td>1799.0</td>\n",
       "      <td>https://underneat.in/products/high-waist-butt-...</td>\n",
       "      <td>high-waist-butt-lifting-shorts</td>\n",
       "      <td>None</td>\n",
       "      <td>All Products</td>\n",
       "      <td>General</td>\n",
       "      <td>0.16</td>\n",
       "      <td>2025-07-18 15:40:06</td>\n",
       "    </tr>\n",
       "  </tbody>\n",
       "</table>\n",
       "</div>"
      ],
      "text/plain": [
       "                      Product Name  Price (INR)  \\\n",
       "0  Strapless Butt Lifting Bodysuit       2199.0   \n",
       "1              All Day Push Up Bra       1499.0   \n",
       "2  High Waist Tummy Control Shorts       1999.0   \n",
       "3  Open Bust Butt Lifting Bodysuit       2699.0   \n",
       "4   High Waist Butt Lifting Shorts       1799.0   \n",
       "\n",
       "                                         Product URL  \\\n",
       "0  https://underneat.in/products/strapless-butt-l...   \n",
       "1  https://underneat.in/products/all-day-push-up-bra   \n",
       "2  https://underneat.in/products/high-waist-tummy...   \n",
       "3  https://underneat.in/products/open-butt-liftin...   \n",
       "4  https://underneat.in/products/high-waist-butt-...   \n",
       "\n",
       "                          Category Discount (%)       Section Trend Type  \\\n",
       "0  strapless-butt-lifting-bodysuit         None  All Products    General   \n",
       "1              all-day-push-up-bra         None  All Products    General   \n",
       "2  high-waist-tummy-control-shorts         None  All Products    General   \n",
       "3       open-butt-lifting-bodysuit         None  All Products    General   \n",
       "4   high-waist-butt-lifting-shorts         None  All Products    General   \n",
       "\n",
       "   Sentiment Score        Time Captured  \n",
       "0             0.00  2025-07-18 15:40:06  \n",
       "1             0.00  2025-07-18 15:40:06  \n",
       "2             0.16  2025-07-18 15:40:06  \n",
       "3             0.00  2025-07-18 15:40:06  \n",
       "4             0.16  2025-07-18 15:40:06  "
      ]
     },
     "execution_count": 5,
     "metadata": {},
     "output_type": "execute_result"
    }
   ],
   "source": [
    "dfs = {}\n",
    "for section, path in sections.items():\n",
    "    print(f\"\\nScraping Section: {section}\")\n",
    "    dfs[section] = scrape_section(section, path)\n",
    "\n",
    "# Combining all sections into one DataFrame\n",
    "final_df = pd.concat(dfs.values(), ignore_index=True)\n",
    "\n",
    "# Saving it to CSV file\n",
    "final_df.to_csv(\"underneat_trending_products.csv\", index=False)\n",
    "print(\"\\n Scraping Complete. Data saved to 'underneat_trending_products.csv'\")\n",
    "\n",
    "# Preview\n",
    "final_df.head()"
   ]
  },
  {
   "cell_type": "markdown",
   "id": "d9140ac2-a761-4c55-a55d-0f8cf06d242f",
   "metadata": {},
   "source": [
    "-----\n",
    "## Visual Insights\n",
    "\n",
    "We now visualize the collected product data to extract deeper insights.\n",
    "- Sentiment distribution across product names\n",
    "- Average price by trend type\n",
    "- Product count per section\n",
    "- Sentiment vs. Price comparison\n",
    "\n",
    "-----"
   ]
  },
  {
   "cell_type": "markdown",
   "id": "1287be89-3625-4883-b983-5a0191d07ac0",
   "metadata": {},
   "source": [
    "### Sentiment Score Distribution"
   ]
  },
  {
   "cell_type": "code",
   "execution_count": 6,
   "id": "a252d0c5-c26a-4879-ab4b-ff3753895479",
   "metadata": {},
   "outputs": [
    {
     "name": "stderr",
     "output_type": "stream",
     "text": [
      "/opt/anaconda3/lib/python3.11/site-packages/seaborn/_oldcore.py:1119: FutureWarning: use_inf_as_na option is deprecated and will be removed in a future version. Convert inf values to NaN before operating instead.\n",
      "  with pd.option_context('mode.use_inf_as_na', True):\n"
     ]
    },
    {
     "data": {
      "image/png": "[encoded data removed]",
      "text/plain": [
       "<Figure size 800x400 with 1 Axes>"
      ]
     },
     "metadata": {},
     "output_type": "display_data"
    }
   ],
   "source": [
    "plt.figure(figsize=(8, 4))\n",
    "sns.histplot(final_df[\"Sentiment Score\"], bins=20, kde=True, color=\"skyblue\")\n",
    "plt.title(\"Sentiment Score Distribution of Product Titles\")\n",
    "plt.xlabel(\"Sentiment Score\")\n",
    "plt.ylabel(\"Number of Products\")\n",
    "plt.tight_layout()\n",
    "plt.show()"
   ]
  },
  {
   "cell_type": "markdown",
   "id": "7112d7cc-261c-4197-a526-cb282ca4a8b1",
   "metadata": {},
   "source": [
    "### Average Price by Trend Type"
   ]
  },
  {
   "cell_type": "code",
   "execution_count": 7,
   "id": "1f44f87a-851c-4c96-acf9-365ffb2520e5",
   "metadata": {},
   "outputs": [
    {
     "name": "stderr",
     "output_type": "stream",
     "text": [
      "/var/folders/f_/4c4tkmj90gb20rdrw1vfpf_m0000gn/T/ipykernel_39133/2084468061.py:2: FutureWarning: \n",
      "\n",
      "The `ci` parameter is deprecated. Use `errorbar=None` for the same effect.\n",
      "\n",
      "  sns.barplot(data=final_df, x=\"Trend Type\", y=\"Price (INR)\", ci=None, palette=\"Set2\")\n"
     ]
    },
    {
     "data": {
      "image/png": "[encoded data removed]",
      "text/plain": [
       "<Figure size 800x400 with 1 Axes>"
      ]
     },
     "metadata": {},
     "output_type": "display_data"
    }
   ],
   "source": [
    "plt.figure(figsize=(8, 4))\n",
    "sns.barplot(data=final_df, x=\"Trend Type\", y=\"Price (INR)\", ci=None, palette=\"Set2\")\n",
    "plt.title(\"Average Price by Trend Type\")\n",
    "plt.ylabel(\"Average Price (INR)\")\n",
    "plt.xlabel(\"Trend Type\")\n",
    "plt.tight_layout()\n",
    "plt.show()"
   ]
  },
  {
   "cell_type": "markdown",
   "id": "2177510c-a254-4607-8daf-782d14acc43f",
   "metadata": {},
   "source": [
    "### Product Count by Section"
   ]
  },
  {
   "cell_type": "code",
   "execution_count": 8,
   "id": "e0da39c0-9f35-4d3a-9886-d9e1bb345984",
   "metadata": {},
   "outputs": [
    {
     "data": {
      "image/png": "[encoded data removed]",
      "text/plain": [
       "<Figure size 800x400 with 1 Axes>"
      ]
     },
     "metadata": {},
     "output_type": "display_data"
    }
   ],
   "source": [
    "plt.figure(figsize=(8, 4))\n",
    "sns.countplot(data=final_df, x=\"Section\", palette=\"Set3\")\n",
    "plt.title(\"Number of Products by Section\")\n",
    "plt.ylabel(\"Count\")\n",
    "plt.xlabel(\"Section\")\n",
    "plt.tight_layout()\n",
    "plt.show()"
   ]
  },
  {
   "cell_type": "markdown",
   "id": "fbd42e2f-b6f8-4a9c-b98e-0dfabb40c3f9",
   "metadata": {},
   "source": [
    "###  Sentiment vs Price Scatterplot"
   ]
  },
  {
   "cell_type": "code",
   "execution_count": 9,
   "id": "8b2b5767-1592-4348-971d-94312a30659d",
   "metadata": {},
   "outputs": [
    {
     "data": {
      "image/png": "[encoded data removed]",
      "text/plain": [
       "<Figure size 800x400 with 1 Axes>"
      ]
     },
     "metadata": {},
     "output_type": "display_data"
    }
   ],
   "source": [
    "plt.figure(figsize=(8, 4))\n",
    "sns.scatterplot(data=final_df, x=\"Sentiment Score\", y=\"Price (INR)\", hue=\"Trend Type\", palette=\"coolwarm\")\n",
    "plt.title(\"Sentiment Score vs. Price by Trend Type\")\n",
    "plt.tight_layout()\n",
    "plt.show()"
   ]
  },
  {
   "cell_type": "markdown",
   "id": "bb595070-852e-400c-afaf-b40155abbb75",
   "metadata": {},
   "source": [
    "### Top 5 Current Trend Products (New Arrivals)"
   ]
  },
  {
   "cell_type": "code",
   "execution_count": 10,
   "id": "dfdded15-4a3f-45b6-9973-d2909a58226f",
   "metadata": {},
   "outputs": [
    {
     "data": {
      "text/html": [
       "<div>\n",
       "<style scoped>\n",
       "    .dataframe tbody tr th:only-of-type {\n",
       "        vertical-align: middle;\n",
       "    }\n",
       "\n",
       "    .dataframe tbody tr th {\n",
       "        vertical-align: top;\n",
       "    }\n",
       "\n",
       "    .dataframe thead th {\n",
       "        text-align: right;\n",
       "    }\n",
       "</style>\n",
       "<table border=\"1\" class=\"dataframe\">\n",
       "  <thead>\n",
       "    <tr style=\"text-align: right;\">\n",
       "      <th></th>\n",
       "      <th>Product Name</th>\n",
       "      <th>Price (INR)</th>\n",
       "      <th>Sentiment Score</th>\n",
       "      <th>Product URL</th>\n",
       "    </tr>\n",
       "  </thead>\n",
       "  <tbody>\n",
       "    <tr>\n",
       "      <th>50</th>\n",
       "      <td>Sculpt Fit Padded Shorts</td>\n",
       "      <td>3295.0</td>\n",
       "      <td>0.4</td>\n",
       "      <td>https://underneat.in/products/sculpt-fit-padde...</td>\n",
       "    </tr>\n",
       "    <tr>\n",
       "      <th>45</th>\n",
       "      <td>Strapless Butt Lifting Bodysuit</td>\n",
       "      <td>2199.0</td>\n",
       "      <td>0.0</td>\n",
       "      <td>https://underneat.in/products/strapless-butt-l...</td>\n",
       "    </tr>\n",
       "    <tr>\n",
       "      <th>46</th>\n",
       "      <td>All Day Hold Strapless Bra</td>\n",
       "      <td>2499.0</td>\n",
       "      <td>0.0</td>\n",
       "      <td>https://underneat.in/products/all-day-hold-str...</td>\n",
       "    </tr>\n",
       "    <tr>\n",
       "      <th>47</th>\n",
       "      <td>Reusable Breast Lift Cup-Comma Bunny Ups</td>\n",
       "      <td>999.0</td>\n",
       "      <td>0.0</td>\n",
       "      <td>https://underneat.in/products/comma-bunny-ups</td>\n",
       "    </tr>\n",
       "    <tr>\n",
       "      <th>48</th>\n",
       "      <td>Built in bra bodycon dress</td>\n",
       "      <td>2499.0</td>\n",
       "      <td>0.0</td>\n",
       "      <td>https://underneat.in/products/skin-fit-bodycon...</td>\n",
       "    </tr>\n",
       "  </tbody>\n",
       "</table>\n",
       "</div>"
      ],
      "text/plain": [
       "                                Product Name  Price (INR)  Sentiment Score  \\\n",
       "50                  Sculpt Fit Padded Shorts       3295.0              0.4   \n",
       "45           Strapless Butt Lifting Bodysuit       2199.0              0.0   \n",
       "46                All Day Hold Strapless Bra       2499.0              0.0   \n",
       "47  Reusable Breast Lift Cup-Comma Bunny Ups        999.0              0.0   \n",
       "48                Built in bra bodycon dress       2499.0              0.0   \n",
       "\n",
       "                                          Product URL  \n",
       "50  https://underneat.in/products/sculpt-fit-padde...  \n",
       "45  https://underneat.in/products/strapless-butt-l...  \n",
       "46  https://underneat.in/products/all-day-hold-str...  \n",
       "47      https://underneat.in/products/comma-bunny-ups  \n",
       "48  https://underneat.in/products/skin-fit-bodycon...  "
      ]
     },
     "execution_count": 10,
     "metadata": {},
     "output_type": "execute_result"
    }
   ],
   "source": [
    "# Filter current trends\n",
    "df_current = final_df[final_df[\"Trend Type\"] == \"Current Trend\"]\n",
    "\n",
    "# Top 5 by sentiment\n",
    "top5 = df_current.sort_values(by=\"Sentiment Score\", ascending=False).head(5)\n",
    "top5 = top5[[\"Product Name\", \"Price (INR)\", \"Sentiment Score\", \"Product URL\"]]\n",
    "top5"
   ]
  },
  {
   "cell_type": "markdown",
   "id": "3c956061-8eb0-49a1-8dc2-4a9200bc1cd2",
   "metadata": {},
   "source": [
    "## Market Research Insights — Top 5 Trendy Products\n",
    "\n",
    "---\n",
    "\n",
    "### 1. Sculpt Fit Padded Shorts\n",
    "- **Target Audience:** Active women aged 20–35 looking for stylish performance wear.\n",
    "- **Pricing Strategy:** ₹3295 — positioned as premium athleisure, possibly using influencers or fitness ambassadors.\n",
    "- **Competitive Landscape:** Nike Dri-Fit, Adidas Formotion, HRX Sculpt Series.\n",
    "\n",
    "---\n",
    "\n",
    "### 2. Strapless Butt Lifting Bodysuit\n",
    "- **Target Audience:** Women aged 22–40 seeking shapewear for parties or events.\n",
    "- **Pricing Strategy:** ₹2199 — mid-premium shapewear pricing, targets functionality + aesthetics.\n",
    "- **Competitive Landscape:** Clovia, Shapellx, Zivame Sculpt Collection.\n",
    "\n",
    "---\n",
    "\n",
    "### 3. All Day Hold Strapless Bra\n",
    "- **Target Audience:** Young professionals and fashion-conscious women, 20–35, who wear strapless/halter outfits.\n",
    "- **Pricing Strategy:** ₹2499 — priced in premium lingerie tier, promotes comfort and stability.\n",
    "- **Competitive Landscape:** Enamor, Hunkemöller, Victoria's Secret Light Lift.\n",
    "\n",
    "---\n",
    "\n",
    "### 4. Reusable Breast Lift Cup — Comma Bunny Ups\n",
    "- **Target Audience:** Women 18–35 who want invisible support under dresses or gowns.\n",
    "- **Pricing Strategy:** ₹999 — affordable, reusable solution for occasional wear.\n",
    "- **Competitive Landscape:** Amazon Basics, Sneak Peek Nipple Covers, Hollywood Fashion Secrets.\n",
    "\n",
    "---\n",
    "\n",
    "### 5. Front Zip Thong Bodysuit\n",
    "- **Target Audience:** Women 22–38 exploring edgy or modern fashion styling, partywear.\n",
    "- **Pricing Strategy:** ₹1999 — affordable boldwear; often cross-sold with skirts or blazers.\n",
    "- **Competitive Landscape:** Shein, Zara Bodysuits, Urbanic Shapewear.\n",
    "\n"
   ]
  },
  {
   "cell_type": "markdown",
   "id": "82967ceb-0d66-4a49-a312-27892db5e391",
   "metadata": {},
   "source": [
    "-----\n",
    "## Summary\n",
    "\n",
    "- Scraped product listings from Underneat.in across 3 sections.\n",
    "- Calculated sentiment scores for product names using TextBlob.\n",
    "- Analyzed trends, pricing, and discounting.\n",
    "- Visualized sentiment, price, and trend distribution.\n",
    "\n",
    "-----"
   ]
  },
  {
   "cell_type": "markdown",
   "id": "d02825b7-ea1a-4bdf-a11d-5e78cac4fd5d",
   "metadata": {},
   "source": [
    "-----\n",
    "### Next Steps should be (if more time allowed):\n",
    "- Extend the same logic to Nykaa Fashion, Myntra, TheHouseOfRare.com\n",
    "- Add review scraping for better sentiment scoring\n",
    "- Store all data in a PostgreSQL/MySQL\n",
    "- Build a dashboard in Streamlit or Tableau\n",
    "-----"
   ]
  },
  {
   "cell_type": "markdown",
   "id": "97395a56-f8cc-452f-b485-b1af22d936e3",
   "metadata": {},
   "source": [
    "## Database Design (ER Diagram / Table Structure)\n",
    "\n",
    "To support scalable storage of trend and sentiment data:\n",
    "\n",
    "-----\n",
    "\n",
    "### Tables we need:\n",
    "1. `products`\n",
    "   - product_id (PK)\n",
    "   - product_name\n",
    "   - category\n",
    "   - base_url\n",
    "  \n",
    "-----\n",
    "\n",
    "2. `trend_data`\n",
    "   - trend_id (PK)\n",
    "   - product_id (FK)\n",
    "   - section (New Arrival, Best Seller, etc.)\n",
    "   - trend_type (current/historical)\n",
    "   - timestamp\n",
    "\n",
    "-----\n",
    "\n",
    "3. `sentiment_scores`\n",
    "   - sentiment_id (PK)\n",
    "   - product_id (FK)\n",
    "   - sentiment_score\n",
    "   - captured_at\n",
    "  \n",
    "-----\n",
    "\n",
    "4. `market_research`\n",
    "   - research_id (PK)\n",
    "   - product_id (FK)\n",
    "   - target_audience\n",
    "   - pricing_strategy\n",
    "   - competitors\n",
    "\n",
    "-----"
   ]
  },
  {
   "cell_type": "code",
   "execution_count": null,
   "id": "ea41eeaf-9e90-43df-ace5-10e2c71c940c",
   "metadata": {},
   "outputs": [],
   "source": []
  }
 ],
 "metadata": {
  "kernelspec": {
   "display_name": "Python 3 (ipykernel)",
   "language": "python",
   "name": "python3"
  },
  "language_info": {
   "codemirror_mode": {
    "name": "ipython",
    "version": 3
   },
   "file_extension": ".py",
   "mimetype": "text/x-python",
   "name": "python",
   "nbconvert_exporter": "python",
   "pygments_lexer": "ipython3",
   "version": "3.11.7"
  }
 },
 "nbformat": 4,
 "nbformat_minor": 5
}
